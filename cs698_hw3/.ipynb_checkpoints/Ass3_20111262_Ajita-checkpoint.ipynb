{
 "cells": [
  {
   "cell_type": "code",
   "execution_count": 1,
   "metadata": {},
   "outputs": [],
   "source": [
    "#!/usr/bin/env python3\n",
    "# -*- coding: utf-8 -*-\n",
    "\"\"\"\n",
    "Created on Sun May  9 19:24:21 2021\n",
    "\n",
    "@author: ajitashree\n",
    "\"\"\"\n",
    "\n",
    "import numpy as np\n",
    "import matplotlib.pyplot as plt\n",
    "\n",
    "# True function\n",
    "def px(x):\n",
    "    return np.exp(np.sin(x))\n",
    "\n",
    "# Proposal function\n",
    "def qx(x, mu, sig):\n",
    "    num = np.exp(-(((x-mu)**2))/(2*sig**2))\n",
    "    den = np.sqrt(2 * 3.14 * (sig**2))\n",
    "    return num/den\n"
   ]
  },
  {
   "cell_type": "code",
   "execution_count": 2,
   "metadata": {},
   "outputs": [],
   "source": [
    "iterations = 10000\n",
    "\n",
    "'''\n",
    "sigma = 1.1 # 440.631\n",
    "sigma = 2 # 46\n",
    "sigma = 1 # 942.452\n",
    "'''\n",
    "sigma = 1.5 #91.39\n",
    "\n",
    "\n",
    "M_min = sigma * np.sqrt(2*3.14) * np.exp(1 + 0.5 * ((3.14/sigma)**2)) \n",
    "\n",
    "\n",
    "# Rejection sampling algorithm\n",
    "samples = []\n",
    "\n",
    "while len(samples) < 10000:\n",
    "    \n",
    "    # sample x* from q(x)\n",
    "    x_ = np.random.normal(0, (sigma**2))\n",
    "    \n",
    "    # sample a uniform rv r [0, Mq(x*)]\n",
    "    u = np.random.uniform(0, M_min * qx(x_, 0, (sigma**2)))\n",
    "    \n",
    "    # if u <= p(z*), accept else reject\n",
    "    if (u  <= px(x_) and x_ <= 3.14 and x_ >= -3.14):\n",
    "        samples += [x_]\n",
    "        "
   ]
  },
  {
   "cell_type": "code",
   "execution_count": 3,
   "metadata": {},
   "outputs": [
    {
     "data": {
      "image/png": "[encoded data removed]",
      "text/plain": [
       "<Figure size 720x720 with 1 Axes>"
      ]
     },
     "metadata": {
      "needs_background": "light"
     },
     "output_type": "display_data"
    }
   ],
   "source": [
    "\n",
    "# All accepted z*'s are random samples from p(x)\n",
    "X = np.linspace(-2*3.14, 2*3.14, 100)\n",
    "plt.figure(figsize = (10,10))\n",
    "\n",
    "plt.hist(samples, 500)\n",
    "plt.grid()\n",
    "plt.show()\n"
   ]
  },
  {
   "cell_type": "code",
   "execution_count": null,
   "metadata": {},
   "outputs": [],
   "source": []
  }
 ],
 "metadata": {
  "kernelspec": {
   "display_name": "Python 3",
   "language": "python",
   "name": "python3"
  },
  "language_info": {
   "codemirror_mode": {
    "name": "ipython",
    "version": 3
   },
   "file_extension": ".py",
   "mimetype": "text/x-python",
   "name": "python",
   "nbconvert_exporter": "python",
   "pygments_lexer": "ipython3",
   "version": "3.8.3"
  }
 },
 "nbformat": 4,
 "nbformat_minor": 4
}
